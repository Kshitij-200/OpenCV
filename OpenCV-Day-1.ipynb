{
 "cells": [
  {
   "cell_type": "code",
   "execution_count": 1,
   "id": "84e5105f",
   "metadata": {},
   "outputs": [],
   "source": [
    "import cv2"
   ]
  },
  {
   "cell_type": "markdown",
   "id": "5f043e31",
   "metadata": {},
   "source": [
    "# Test Samples"
   ]
  },
  {
   "cell_type": "code",
   "execution_count": 2,
   "id": "6bb34798",
   "metadata": {
    "collapsed": true
   },
   "outputs": [
    {
     "name": "stdout",
     "output_type": "stream",
     "text": [
      " This is a sample for histogram plotting for RGB images and grayscale images for better understanding of colour distribution\n",
      "\n",
      "Benefit : Learn how to draw histogram of images\n",
      "          Get familier with cv.calcHist, cv.equalizeHist,cv.normalize and some drawing functions\n",
      "\n",
      "Level : Beginner or Intermediate\n",
      "\n",
      "Functions : 1) hist_curve : returns histogram of an image drawn as curves\n",
      "            2) hist_lines : return histogram of an image drawn as bins ( only for grayscale images )\n",
      "\n",
      "Usage : python hist.py <image_file>\n",
      "\n",
      "Abid Rahman 3/14/12 debug Gary Bradski\n",
      "\n",
      "usage : python hist.py <image_file>\n",
      " Histogram plotting \n",
      "\n",
      "    Keymap :\n",
      "\n",
      "    a - show histogram for color image in curve mode \n",
      "\n",
      "    b - show histogram in bin mode \n",
      "\n",
      "    c - show equalized histogram (always in bin mode) \n",
      "\n",
      "    d - show histogram for gray image in curve mode \n",
      "\n",
      "    e - show histogram for a normalized image in curve mode \n",
      "\n",
      "    Esc - exit \n",
      "\n",
      "    \n",
      "a\n",
      "b\n",
      "hist_lines applicable only for grayscale images\n",
      "c\n",
      "d\n",
      "e\n",
      "a\n",
      "ESC\n",
      "Done\n"
     ]
    },
    {
     "name": "stderr",
     "output_type": "stream",
     "text": [
      "[ WARN:0@0.100] global samples.cpp:61 cv::samples::findFile cv::samples::findFile('lena.jpg') => 'D:\\OpenCV\\opencv-4.7.0\\opencv-4.7.0\\samples\\python/../..\\samples/data\\lena.jpg'\n"
     ]
    }
   ],
   "source": [
    "# Histogram sample\n",
    "!cd opencv-4.7.0/opencv-4.7.0/samples/python & python hist.py"
   ]
  },
  {
   "cell_type": "code",
   "execution_count": 5,
   "id": "93708794",
   "metadata": {},
   "outputs": [
    {
     "name": "stdout",
     "output_type": "stream",
     "text": [
      "\n",
      "example to show optical flow\n",
      "\n",
      "USAGE: opt_flow.py [<video_source>]\n",
      "\n",
      "Keys:\n",
      " 1 - toggle HSV flow visualization\n",
      " 2 - toggle glitch\n",
      "\n",
      "Keys:\n",
      "    ESC    - exit\n",
      "\n",
      "Done\n"
     ]
    }
   ],
   "source": [
    "!cd opencv-4.7.0/opencv-4.7.0/samples/python & python opt_flow.py 0"
   ]
  },
  {
   "cell_type": "code",
   "execution_count": 4,
   "id": "e78c4249",
   "metadata": {
    "collapsed": true
   },
   "outputs": [
    {
     "name": "stdout",
     "output_type": "stream",
     "text": [
      "Device number 0 is available.\n",
      "Device number 1 is not available.\n",
      "Device number 2 is not available.\n",
      "Device number 3 is not available.\n",
      "Device number 4 is not available.\n",
      "Device number 5 is not available.\n",
      "Device number 6 is not available.\n",
      "Device number 7 is not available.\n",
      "Device number 8 is not available.\n",
      "Device number 9 is not available.\n"
     ]
    }
   ],
   "source": [
    "import cv2\n",
    "\n",
    "for device_number in range(10):\n",
    "    cap = cv2.VideoCapture(device_number)\n",
    "    if cap.isOpened():\n",
    "        print(f'Device number {device_number} is available.')\n",
    "        cap.release()\n",
    "    else:\n",
    "        print(f'Device number {device_number} is not available.')\n"
   ]
  },
  {
   "cell_type": "code",
   "execution_count": 11,
   "id": "c86a0adc",
   "metadata": {},
   "outputs": [
    {
     "name": "stdout",
     "output_type": "stream",
     "text": [
      "\n",
      "example to detect upright people in images using HOG features\n",
      "\n",
      "Usage:\n",
      "    peopledetect.py <image_names>\n",
      "\n",
      "Press any key to continue, ESC to stop.\n",
      "\n",
      "Done\n"
     ]
    }
   ],
   "source": [
    "!cd opencv-4.7.0/opencv-4.7.0/samples/python & python peopledetect.py image"
   ]
  },
  {
   "cell_type": "code",
   "execution_count": null,
   "id": "41b6f555",
   "metadata": {},
   "outputs": [],
   "source": []
  },
  {
   "cell_type": "code",
   "execution_count": null,
   "id": "7c1d2f27",
   "metadata": {},
   "outputs": [],
   "source": []
  },
  {
   "cell_type": "code",
   "execution_count": null,
   "id": "54eab7a5",
   "metadata": {},
   "outputs": [],
   "source": []
  },
  {
   "cell_type": "code",
   "execution_count": null,
   "id": "e75a6e8f",
   "metadata": {},
   "outputs": [],
   "source": []
  },
  {
   "cell_type": "code",
   "execution_count": null,
   "id": "64eefe32",
   "metadata": {},
   "outputs": [],
   "source": []
  },
  {
   "cell_type": "code",
   "execution_count": null,
   "id": "df0c13c1",
   "metadata": {},
   "outputs": [],
   "source": []
  },
  {
   "cell_type": "code",
   "execution_count": null,
   "id": "0cad4a3f",
   "metadata": {},
   "outputs": [],
   "source": []
  }
 ],
 "metadata": {
  "kernelspec": {
   "display_name": "Python 3 (ipykernel)",
   "language": "python",
   "name": "python3"
  },
  "language_info": {
   "codemirror_mode": {
    "name": "ipython",
    "version": 3
   },
   "file_extension": ".py",
   "mimetype": "text/x-python",
   "name": "python",
   "nbconvert_exporter": "python",
   "pygments_lexer": "ipython3",
   "version": "3.9.13"
  }
 },
 "nbformat": 4,
 "nbformat_minor": 5
}
